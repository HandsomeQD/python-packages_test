{
 "cells": [
  {
   "cell_type": "code",
   "execution_count": 1,
   "metadata": {},
   "outputs": [
    {
     "ename": "SyntaxError",
     "evalue": "Missing parentheses in call to 'print'. Did you mean print(\"hello world\")? (<ipython-input-1-6d29d8fb337c>, line 1)",
     "output_type": "error",
     "traceback": [
      "\u001b[0;36m  File \u001b[0;32m\"<ipython-input-1-6d29d8fb337c>\"\u001b[0;36m, line \u001b[0;32m1\u001b[0m\n\u001b[0;31m    print \"hello world\"\u001b[0m\n\u001b[0m                      ^\u001b[0m\n\u001b[0;31mSyntaxError\u001b[0m\u001b[0;31m:\u001b[0m Missing parentheses in call to 'print'. Did you mean print(\"hello world\")?\n"
     ]
    }
   ],
   "source": [
    "print \"hello world\""
   ]
  },
  {
   "cell_type": "code",
   "execution_count": 2,
   "metadata": {},
   "outputs": [
    {
     "name": "stdout",
     "output_type": "stream",
     "text": [
      "hello world\n"
     ]
    }
   ],
   "source": [
    "print (\"hello world\")"
   ]
  },
  {
   "cell_type": "code",
   "execution_count": 3,
   "metadata": {},
   "outputs": [
    {
     "name": "stdout",
     "output_type": "stream",
     "text": [
      "tensor([[1.2096e+04, 7.1846e+22, 1.7718e+28, 4.5144e+27, 0.0000e+00],\n",
      "        [2.0000e+00, 0.0000e+00, 2.0000e+00, 1.8361e+25, 1.4603e-19],\n",
      "        [1.6795e+08, 4.7423e+30, 4.7393e+30, 9.5461e-01, 4.4377e+27]])\n"
     ]
    }
   ],
   "source": [
    "import torch\n",
    "x = torch.empty(3,5)\n",
    "print(x)"
   ]
  },
  {
   "cell_type": "code",
   "execution_count": 4,
   "metadata": {},
   "outputs": [
    {
     "name": "stdout",
     "output_type": "stream",
     "text": [
      "tensor([0.8967, 0.9300, 0.1201, 0.3765, 0.0919])\n"
     ]
    }
   ],
   "source": [
    "x = torch.rand(5)\n",
    "print(x)"
   ]
  },
  {
   "cell_type": "code",
   "execution_count": 5,
   "metadata": {},
   "outputs": [
    {
     "name": "stdout",
     "output_type": "stream",
     "text": [
      "tensor([[0, 0, 0],\n",
      "        [0, 0, 0],\n",
      "        [0, 0, 0],\n",
      "        [0, 0, 0],\n",
      "        [0, 0, 0]])\n"
     ]
    }
   ],
   "source": [
    "x = torch.zeros(5,3,dtype = torch.long)\n",
    "print(x)"
   ]
  },
  {
   "cell_type": "code",
   "execution_count": 6,
   "metadata": {},
   "outputs": [
    {
     "ename": "NameError",
     "evalue": "name '这是一个文档' is not defined",
     "output_type": "error",
     "traceback": [
      "\u001b[0;31m---------------------------------------------------------------------------\u001b[0m",
      "\u001b[0;31mNameError\u001b[0m                                 Traceback (most recent call last)",
      "\u001b[0;32m<ipython-input-6-5112dc9623b2>\u001b[0m in \u001b[0;36m<module>\u001b[0;34m\u001b[0m\n\u001b[0;32m----> 1\u001b[0;31m \u001b[0m这是一个文档\u001b[0m\u001b[0;34m\u001b[0m\u001b[0;34m\u001b[0m\u001b[0m\n\u001b[0m",
      "\u001b[0;31mNameError\u001b[0m: name '这是一个文档' is not defined"
     ]
    }
   ],
   "source": [
    "这是一个文档\n"
   ]
  },
  {
   "cell_type": "code",
   "execution_count": 7,
   "metadata": {},
   "outputs": [
    {
     "name": "stdout",
     "output_type": "stream",
     "text": [
      "tensor([5.5000, 3.0000])\n"
     ]
    }
   ],
   "source": [
    "x = torch.tensor([5.5,3])\n",
    "print(x)\n"
   ]
  },
  {
   "cell_type": "code",
   "execution_count": 8,
   "metadata": {},
   "outputs": [
    {
     "name": "stdout",
     "output_type": "stream",
     "text": [
      "tensor([[1., 1., 1.],\n",
      "        [1., 1., 1.],\n",
      "        [1., 1., 1.],\n",
      "        [1., 1., 1.],\n",
      "        [1., 1., 1.]], dtype=torch.float64)\n",
      "tensor([[-0.5464, -0.4678,  0.6977],\n",
      "        [-0.1596, -0.3364, -0.3902],\n",
      "        [ 0.8365,  0.9798,  0.7433],\n",
      "        [ 0.4608, -1.1703, -1.1357],\n",
      "        [ 0.5594, -0.3277, -0.0599]])\n"
     ]
    }
   ],
   "source": [
    "x = x.new_ones(5,3,dtype = torch.float64)\n",
    "print(x)\n",
    "\n",
    "x = torch.randn_like(x,dtype = torch.float)\n",
    "print(x)\n"
   ]
  },
  {
   "cell_type": "code",
   "execution_count": 9,
   "metadata": {},
   "outputs": [
    {
     "name": "stdout",
     "output_type": "stream",
     "text": [
      "torch.Size([5, 3])\n",
      "torch.Size([5, 3])\n"
     ]
    }
   ],
   "source": [
    "print(x.size())\n",
    "print(x.shape)"
   ]
  },
  {
   "cell_type": "code",
   "execution_count": 10,
   "metadata": {},
   "outputs": [
    {
     "name": "stdout",
     "output_type": "stream",
     "text": [
      "tensor([[0.4598, 0.9628, 0.0198],\n",
      "        [0.4174, 0.2587, 0.3469],\n",
      "        [0.5405, 0.8972, 0.0906],\n",
      "        [0.9198, 0.8448, 0.8198],\n",
      "        [0.2120, 0.2272, 0.3739]])\n",
      "tensor([[-0.0866,  0.4949,  0.7175],\n",
      "        [ 0.2577, -0.0777, -0.0433],\n",
      "        [ 1.3770,  1.8770,  0.8339],\n",
      "        [ 1.3806, -0.3255, -0.3159],\n",
      "        [ 0.7714, -0.1005,  0.3141]])\n"
     ]
    }
   ],
   "source": [
    "y = torch.rand(5,3)\n",
    "print(y)\n",
    "print(x + y)"
   ]
  },
  {
   "cell_type": "code",
   "execution_count": 11,
   "metadata": {},
   "outputs": [
    {
     "name": "stdout",
     "output_type": "stream",
     "text": [
      "tensor([[-0.0866,  0.4949,  0.7175],\n",
      "        [ 0.2577, -0.0777, -0.0433],\n",
      "        [ 1.3770,  1.8770,  0.8339],\n",
      "        [ 1.3806, -0.3255, -0.3159],\n",
      "        [ 0.7714, -0.1005,  0.3141]])\n"
     ]
    }
   ],
   "source": [
    "print(torch.add(x,y))\n"
   ]
  },
  {
   "cell_type": "code",
   "execution_count": 12,
   "metadata": {},
   "outputs": [
    {
     "name": "stdout",
     "output_type": "stream",
     "text": [
      "tensor([[-0.0866,  0.4949,  0.7175],\n",
      "        [ 0.2577, -0.0777, -0.0433],\n",
      "        [ 1.3770,  1.8770,  0.8339],\n",
      "        [ 1.3806, -0.3255, -0.3159],\n",
      "        [ 0.7714, -0.1005,  0.3141]])\n"
     ]
    }
   ],
   "source": [
    "y.add_(x)\n",
    "print(y)"
   ]
  },
  {
   "cell_type": "code",
   "execution_count": 13,
   "metadata": {},
   "outputs": [
    {
     "name": "stdout",
     "output_type": "stream",
     "text": [
      "tensor([0.4536, 0.5322, 1.6977])\n",
      "tensor([0.4536, 0.5322, 1.6977])\n"
     ]
    }
   ],
   "source": [
    "y = x[0, : ]\n",
    "y += 1\n",
    "print(y)\n",
    "print(x[0, : ])"
   ]
  },
  {
   "cell_type": "code",
   "execution_count": 14,
   "metadata": {},
   "outputs": [
    {
     "name": "stdout",
     "output_type": "stream",
     "text": [
      "tensor([[ 0.4536,  0.5322,  1.6977],\n",
      "        [-0.1596, -0.3364, -0.3902],\n",
      "        [ 0.8365,  0.9798,  0.7433],\n",
      "        [ 0.4608, -1.1703, -1.1357],\n",
      "        [ 0.5594, -0.3277, -0.0599]])\n",
      "torch.Size([5, 3]) torch.Size([15]) torch.Size([3, 5])\n"
     ]
    }
   ],
   "source": [
    "print(x)\n",
    "y = x.view(15)\n",
    "z = x.view(-1,5)\n",
    "print(x.shape,y.shape,z.shape)\n"
   ]
  },
  {
   "cell_type": "code",
   "execution_count": 15,
   "metadata": {
    "scrolled": true
   },
   "outputs": [
    {
     "name": "stdout",
     "output_type": "stream",
     "text": [
      "tensor([ 0.4536,  0.5322,  1.6977, -0.1596, -0.3364, -0.3902,  0.8365,  0.9798,\n",
      "         0.7433,  0.4608, -1.1703, -1.1357,  0.5594, -0.3277, -0.0599])\n",
      "tensor([[ 0.4536,  0.5322,  1.6977, -0.1596, -0.3364],\n",
      "        [-0.3902,  0.8365,  0.9798,  0.7433,  0.4608],\n",
      "        [-1.1703, -1.1357,  0.5594, -0.3277, -0.0599]])\n"
     ]
    }
   ],
   "source": [
    "print(y)\n",
    "print(z)"
   ]
  },
  {
   "cell_type": "code",
   "execution_count": 16,
   "metadata": {},
   "outputs": [
    {
     "name": "stdout",
     "output_type": "stream",
     "text": [
      "tensor([[ 1.4536,  1.5322,  2.6977],\n",
      "        [ 0.8404,  0.6636,  0.6098],\n",
      "        [ 1.8365,  1.9798,  1.7433],\n",
      "        [ 1.4608, -0.1703, -0.1357],\n",
      "        [ 1.5594,  0.6723,  0.9401]])\n",
      "tensor([ 0.4536,  0.5322,  1.6977, -0.1596, -0.3364, -0.3902,  0.8365,  0.9798,\n",
      "         0.7433,  0.4608, -1.1703, -1.1357,  0.5594, -0.3277, -0.0599])\n"
     ]
    }
   ],
   "source": [
    "x= x+1\n",
    "print(x)\n",
    "print(y)"
   ]
  },
  {
   "cell_type": "code",
   "execution_count": 17,
   "metadata": {},
   "outputs": [
    {
     "name": "stdout",
     "output_type": "stream",
     "text": [
      "tensor([[ 0.4536,  0.5322,  1.6977, -0.1596, -0.3364],\n",
      "        [-0.3902,  0.8365,  0.9798,  0.7433,  0.4608],\n",
      "        [-1.1703, -1.1357,  0.5594, -0.3277, -0.0599]])\n"
     ]
    }
   ],
   "source": [
    "print(z)"
   ]
  },
  {
   "cell_type": "code",
   "execution_count": 18,
   "metadata": {},
   "outputs": [
    {
     "name": "stdout",
     "output_type": "stream",
     "text": [
      "tensor([[2.4536, 2.5322, 3.6977],\n",
      "        [1.8404, 1.6636, 1.6098],\n",
      "        [2.8365, 2.9798, 2.7433],\n",
      "        [2.4608, 0.8297, 0.8643],\n",
      "        [2.5594, 1.6723, 1.9401]])\n",
      "tensor([2.4536, 2.5322, 3.6977, 1.8404, 1.6636, 1.6098, 2.8365, 2.9798, 2.7433,\n",
      "        2.4608, 0.8297, 0.8643, 2.5594, 1.6723, 1.9401])\n"
     ]
    }
   ],
   "source": [
    "y=x.view(15)\n",
    "x+=1\n",
    "print(x)\n",
    "print(y)"
   ]
  },
  {
   "cell_type": "code",
   "execution_count": 19,
   "metadata": {},
   "outputs": [
    {
     "name": "stdout",
     "output_type": "stream",
     "text": [
      "tensor([[ 0.4536,  0.5322,  1.6977, -0.1596, -0.3364],\n",
      "        [-0.3902,  0.8365,  0.9798,  0.7433,  0.4608],\n",
      "        [-1.1703, -1.1357,  0.5594, -0.3277, -0.0599]])\n"
     ]
    }
   ],
   "source": [
    "print(z)"
   ]
  },
  {
   "cell_type": "code",
   "execution_count": 20,
   "metadata": {},
   "outputs": [
    {
     "name": "stdout",
     "output_type": "stream",
     "text": [
      "tensor([[2.4536, 2.5322, 3.6977, 1.8404, 1.6636],\n",
      "        [1.6098, 2.8365, 2.9798, 2.7433, 2.4608],\n",
      "        [0.8297, 0.8643, 2.5594, 1.6723, 1.9401]])\n"
     ]
    }
   ],
   "source": [
    "z=x.view(-1,5)\n",
    "print(z)"
   ]
  },
  {
   "cell_type": "code",
   "execution_count": 21,
   "metadata": {},
   "outputs": [
    {
     "name": "stdout",
     "output_type": "stream",
     "text": [
      "tensor([[3.4536, 3.5322, 4.6977],\n",
      "        [2.8404, 2.6636, 2.6098],\n",
      "        [3.8365, 3.9798, 3.7433],\n",
      "        [3.4608, 1.8297, 1.8643],\n",
      "        [3.5594, 2.6723, 2.9401]])\n",
      "tensor([[2.4536, 2.5322, 3.6977, 1.8404, 1.6636],\n",
      "        [1.6098, 2.8365, 2.9798, 2.7433, 2.4608],\n",
      "        [0.8297, 0.8643, 2.5594, 1.6723, 1.9401]])\n"
     ]
    }
   ],
   "source": [
    "x = x+1\n",
    "print(x)\n",
    "print(z)"
   ]
  },
  {
   "cell_type": "code",
   "execution_count": 22,
   "metadata": {},
   "outputs": [
    {
     "name": "stdout",
     "output_type": "stream",
     "text": [
      "tensor([[4.4536, 4.5322, 5.6977],\n",
      "        [3.8404, 3.6636, 3.6098],\n",
      "        [4.8365, 4.9798, 4.7433],\n",
      "        [4.4608, 2.8297, 2.8643],\n",
      "        [4.5594, 3.6723, 3.9401]])\n",
      "tensor([[2.4536, 2.5322, 3.6977, 1.8404, 1.6636],\n",
      "        [1.6098, 2.8365, 2.9798, 2.7433, 2.4608],\n",
      "        [0.8297, 0.8643, 2.5594, 1.6723, 1.9401]])\n"
     ]
    }
   ],
   "source": [
    "x+=1\n",
    "print(x)\n",
    "print(z)"
   ]
  },
  {
   "cell_type": "code",
   "execution_count": 23,
   "metadata": {},
   "outputs": [
    {
     "name": "stdout",
     "output_type": "stream",
     "text": [
      "tensor([[4.4536, 4.5322, 5.6977, 3.8404, 3.6636],\n",
      "        [3.6098, 4.8365, 4.9798, 4.7433, 4.4608],\n",
      "        [2.8297, 2.8643, 4.5594, 3.6723, 3.9401]])\n",
      "tensor([[5.4536, 5.5322, 6.6977, 4.8404, 4.6636],\n",
      "        [4.6098, 5.8365, 5.9798, 5.7433, 5.4608],\n",
      "        [3.8297, 3.8643, 5.5594, 4.6723, 4.9401]])\n"
     ]
    }
   ],
   "source": [
    "z=x.view(-1,5)\n",
    "print(z)\n",
    "x+=1\n",
    "print(z)"
   ]
  },
  {
   "cell_type": "code",
   "execution_count": 24,
   "metadata": {},
   "outputs": [
    {
     "name": "stdout",
     "output_type": "stream",
     "text": [
      "tensor([[5.4536, 5.5322, 6.6977],\n",
      "        [4.8404, 4.6636, 4.6098],\n",
      "        [5.8365, 5.9798, 5.7433],\n",
      "        [5.4608, 3.8297, 3.8643],\n",
      "        [5.5594, 4.6723, 4.9401]])\n"
     ]
    }
   ],
   "source": [
    "print(x)"
   ]
  },
  {
   "cell_type": "code",
   "execution_count": 25,
   "metadata": {},
   "outputs": [
    {
     "name": "stdout",
     "output_type": "stream",
     "text": [
      "tensor([[5.4536, 5.5322, 6.6977],\n",
      "        [4.8404, 4.6636, 4.6098],\n",
      "        [5.8365, 5.9798, 5.7433],\n",
      "        [5.4608, 3.8297, 3.8643],\n",
      "        [5.5594, 4.6723, 4.9401]])\n",
      "tensor([[5.4536, 5.5322, 6.6977],\n",
      "        [4.8404, 4.6636, 4.6098],\n",
      "        [5.8365, 5.9798, 5.7433],\n",
      "        [5.4608, 3.8297, 3.8643],\n",
      "        [5.5594, 4.6723, 4.9401]])\n",
      "tensor([5.4536, 5.5322, 6.6977, 4.8404, 4.6636, 4.6098, 5.8365, 5.9798, 5.7433,\n",
      "        5.4608, 3.8297, 3.8643, 5.5594, 4.6723, 4.9401])\n"
     ]
    }
   ],
   "source": [
    "print(x)\n",
    "x_cp = x.clone().view(15)\n",
    "print(x)\n",
    "print(x_cp)"
   ]
  },
  {
   "cell_type": "code",
   "execution_count": 26,
   "metadata": {},
   "outputs": [
    {
     "name": "stdout",
     "output_type": "stream",
     "text": [
      "tensor([[5.4536, 5.5322, 6.6977],\n",
      "        [4.8404, 4.6636, 4.6098],\n",
      "        [5.8365, 5.9798, 5.7433],\n",
      "        [5.4608, 3.8297, 3.8643],\n",
      "        [5.5594, 4.6723, 4.9401]])\n",
      "tensor([[6.4536, 6.5322, 7.6977],\n",
      "        [5.8404, 5.6636, 5.6098],\n",
      "        [6.8365, 6.9798, 6.7433],\n",
      "        [6.4608, 4.8297, 4.8643],\n",
      "        [6.5594, 5.6723, 5.9401]])\n",
      "tensor([5.4536, 5.5322, 6.6977, 4.8404, 4.6636, 4.6098, 5.8365, 5.9798, 5.7433,\n",
      "        5.4608, 3.8297, 3.8643, 5.5594, 4.6723, 4.9401])\n"
     ]
    }
   ],
   "source": [
    "print(x)\n",
    "x_cp = x.clone().view(15)\n",
    "x=x+1\n",
    "print(x)\n",
    "print(x_cp)"
   ]
  },
  {
   "cell_type": "code",
   "execution_count": 29,
   "metadata": {},
   "outputs": [
    {
     "name": "stdout",
     "output_type": "stream",
     "text": [
      "tensor([[8.4536, 8.5322, 9.6977],\n",
      "        [7.8404, 7.6636, 7.6098],\n",
      "        [8.8365, 8.9798, 8.7433],\n",
      "        [8.4608, 6.8297, 6.8643],\n",
      "        [8.5594, 7.6723, 7.9401]])\n",
      "tensor([[ 9.4536,  9.5322, 10.6977],\n",
      "        [ 8.8404,  8.6636,  8.6098],\n",
      "        [ 9.8365,  9.9798,  9.7433],\n",
      "        [ 9.4608,  7.8297,  7.8643],\n",
      "        [ 9.5594,  8.6723,  8.9401]])\n",
      "tensor([8.4536, 8.5322, 9.6977, 7.8404, 7.6636, 7.6098, 8.8365, 8.9798, 8.7433,\n",
      "        8.4608, 6.8297, 6.8643, 8.5594, 7.6723, 7.9401])\n"
     ]
    }
   ],
   "source": [
    "#理解一下x=x+1和x+=1在列表操作时的不同！\n",
    "#分清可变对象和不可变对象，不可变对象的值永远是刚开始创建时候的值，对该对象做的任何操作都会导致一个新的对象的创建。\n",
    "#可变对象的值可以通过某些操作动态的改变，比如列表对象，可以通过append方法不断地往列表中添加元素，该列表的值就在不断的处于变化中\n",
    "#一个可变对象赋值给两个变量时他们共享同一个实例对象，指向相同的内存地址，对其中任何一个变量操作时，同时也会影响另外一个变量。\n",
    "print(x)\n",
    "y=x.view(15)\n",
    "x=x+1\n",
    "print(x)\n",
    "print(y)"
   ]
  },
  {
   "cell_type": "code",
   "execution_count": 28,
   "metadata": {
    "scrolled": true
   },
   "outputs": [
    {
     "name": "stdout",
     "output_type": "stream",
     "text": [
      "tensor([[7.4536, 7.5322, 8.6977],\n",
      "        [6.8404, 6.6636, 6.6098],\n",
      "        [7.8365, 7.9798, 7.7433],\n",
      "        [7.4608, 5.8297, 5.8643],\n",
      "        [7.5594, 6.6723, 6.9401]])\n",
      "tensor([[8.4536, 8.5322, 9.6977],\n",
      "        [7.8404, 7.6636, 7.6098],\n",
      "        [8.8365, 8.9798, 8.7433],\n",
      "        [8.4608, 6.8297, 6.8643],\n",
      "        [8.5594, 7.6723, 7.9401]])\n",
      "tensor([8.4536, 8.5322, 9.6977, 7.8404, 7.6636, 7.6098, 8.8365, 8.9798, 8.7433,\n",
      "        8.4608, 6.8297, 6.8643, 8.5594, 7.6723, 7.9401])\n"
     ]
    }
   ],
   "source": [
    "#+= 操作首先会尝试调用对象的 _iadd_方法，如果没有该方法，那么尝试调用_add_方法。\n",
    "#add 方法接收两个参数，返回它们的和，两个参数的值均不会改变。 \n",
    "#iadd 方法同样接收两个参数，但它是属于 in-place 操作，就是说它会改变第一个参数的值，因为这需要对象是可变的，所以对于不可变对象没有iadd方法。\n",
    "#整数对象是没有iadd的，而列表对象提供了iadd方法\n",
    "# += 操作调用的是iadd方法, 它会原地修改l指向的那个对象本身的值； + 操作调用的是 add 方法，该方法会返回一个新的对象，原来的对象保持不变。\n",
    "print(x)\n",
    "y=x.view(15)\n",
    "x+=1\n",
    "print(x)\n",
    "print(y)"
   ]
  },
  {
   "cell_type": "code",
   "execution_count": 30,
   "metadata": {},
   "outputs": [
    {
     "data": {
      "text/plain": [
       "4514890960"
      ]
     },
     "execution_count": 30,
     "metadata": {},
     "output_type": "execute_result"
    }
   ],
   "source": [
    "a=1\n",
    "id(a)\n",
    "a=a+1\n",
    "id(a)\n",
    "a+=1\n",
    "id(a)"
   ]
  },
  {
   "cell_type": "code",
   "execution_count": 31,
   "metadata": {},
   "outputs": [
    {
     "data": {
      "text/plain": [
       "4514890896"
      ]
     },
     "execution_count": 31,
     "metadata": {},
     "output_type": "execute_result"
    }
   ],
   "source": [
    "a = 1\n",
    "id(a)"
   ]
  },
  {
   "cell_type": "code",
   "execution_count": 32,
   "metadata": {},
   "outputs": [
    {
     "name": "stdout",
     "output_type": "stream",
     "text": [
      "4514890896\n"
     ]
    },
    {
     "ename": "NameError",
     "evalue": "name 'pringt' is not defined",
     "output_type": "error",
     "traceback": [
      "\u001b[0;31m---------------------------------------------------------------------------\u001b[0m",
      "\u001b[0;31mNameError\u001b[0m                                 Traceback (most recent call last)",
      "\u001b[0;32m<ipython-input-32-9081ee30cc6a>\u001b[0m in \u001b[0;36m<module>\u001b[0;34m\u001b[0m\n\u001b[1;32m      2\u001b[0m \u001b[0mprint\u001b[0m\u001b[0;34m(\u001b[0m\u001b[0mid\u001b[0m\u001b[0;34m(\u001b[0m\u001b[0ma\u001b[0m\u001b[0;34m)\u001b[0m\u001b[0;34m)\u001b[0m\u001b[0;34m\u001b[0m\u001b[0;34m\u001b[0m\u001b[0m\n\u001b[1;32m      3\u001b[0m \u001b[0ma\u001b[0m\u001b[0;34m=\u001b[0m\u001b[0ma\u001b[0m\u001b[0;34m+\u001b[0m\u001b[0;36m1\u001b[0m\u001b[0;34m\u001b[0m\u001b[0;34m\u001b[0m\u001b[0m\n\u001b[0;32m----> 4\u001b[0;31m \u001b[0mpringt\u001b[0m\u001b[0;34m(\u001b[0m\u001b[0mid\u001b[0m\u001b[0;34m(\u001b[0m\u001b[0ma\u001b[0m\u001b[0;34m)\u001b[0m\u001b[0;34m)\u001b[0m\u001b[0;34m\u001b[0m\u001b[0;34m\u001b[0m\u001b[0m\n\u001b[0m\u001b[1;32m      5\u001b[0m \u001b[0ma\u001b[0m\u001b[0;34m+=\u001b[0m\u001b[0;36m1\u001b[0m\u001b[0;34m\u001b[0m\u001b[0;34m\u001b[0m\u001b[0m\n\u001b[1;32m      6\u001b[0m \u001b[0mprint\u001b[0m\u001b[0;34m(\u001b[0m\u001b[0mid\u001b[0m\u001b[0;34m(\u001b[0m\u001b[0ma\u001b[0m\u001b[0;34m)\u001b[0m\u001b[0;34m)\u001b[0m\u001b[0;34m\u001b[0m\u001b[0;34m\u001b[0m\u001b[0m\n",
      "\u001b[0;31mNameError\u001b[0m: name 'pringt' is not defined"
     ]
    }
   ],
   "source": [
    "a=1\n",
    "print(id(a))\n",
    "a=a+1\n",
    "pringt(id(a))\n",
    "a+=1\n",
    "print(id(a))"
   ]
  },
  {
   "cell_type": "code",
   "execution_count": 33,
   "metadata": {},
   "outputs": [
    {
     "name": "stdout",
     "output_type": "stream",
     "text": [
      "4514890896\n",
      "4514890928\n",
      "4514890960\n"
     ]
    }
   ],
   "source": [
    "a=1\n",
    "print(id(a))\n",
    "a=a+1\n",
    "print(id(a))\n",
    "a+=1\n",
    "print(id(a))"
   ]
  },
  {
   "cell_type": "code",
   "execution_count": 34,
   "metadata": {},
   "outputs": [
    {
     "data": {
      "text/plain": [
       "int"
      ]
     },
     "execution_count": 34,
     "metadata": {},
     "output_type": "execute_result"
    }
   ],
   "source": [
    "type(a)"
   ]
  },
  {
   "cell_type": "code",
   "execution_count": 35,
   "metadata": {},
   "outputs": [
    {
     "name": "stdout",
     "output_type": "stream",
     "text": [
      "tensor([-0.4693])\n",
      "-0.46930015087127686\n"
     ]
    }
   ],
   "source": [
    "x = torch.randn(1)\n",
    "print(x)\n",
    "print(x.item())\n"
   ]
  },
  {
   "cell_type": "code",
   "execution_count": 36,
   "metadata": {},
   "outputs": [
    {
     "name": "stdout",
     "output_type": "stream",
     "text": [
      "tensor([[0.8898, 0.9562, 0.2436],\n",
      "        [0.2817, 0.0364, 0.7455],\n",
      "        [0.6534, 0.3813, 0.1047],\n",
      "        [0.8808, 0.7797, 0.6122],\n",
      "        [0.2823, 0.6826, 0.6065]])\n",
      "tensor(1.0310)\n"
     ]
    }
   ],
   "source": [
    "x = torch.rand(5,3)\n",
    "print(x)\n",
    "y = x.trace()\n",
    "print(y)"
   ]
  },
  {
   "cell_type": "code",
   "execution_count": 37,
   "metadata": {},
   "outputs": [
    {
     "name": "stdout",
     "output_type": "stream",
     "text": [
      "tensor([0.8898, 0.0364, 0.1047])\n"
     ]
    }
   ],
   "source": [
    "print(x.diag())"
   ]
  },
  {
   "cell_type": "code",
   "execution_count": 38,
   "metadata": {},
   "outputs": [
    {
     "name": "stdout",
     "output_type": "stream",
     "text": [
      "tensor([[0.8898, 0.2817, 0.6534, 0.8808, 0.2823],\n",
      "        [0.9562, 0.0364, 0.3813, 0.7797, 0.6826],\n",
      "        [0.2436, 0.7455, 0.1047, 0.6122, 0.6065]])\n"
     ]
    }
   ],
   "source": [
    "print(x.t())"
   ]
  },
  {
   "cell_type": "code",
   "execution_count": 39,
   "metadata": {},
   "outputs": [
    {
     "name": "stdout",
     "output_type": "stream",
     "text": [
      "tensor([[1, 2]])\n",
      "tensor([[1],\n",
      "        [2],\n",
      "        [3]])\n",
      "tensor([[2, 3],\n",
      "        [3, 4],\n",
      "        [4, 5]])\n"
     ]
    }
   ],
   "source": [
    "x = torch.arange(1,3).view(1,2)\n",
    "print(x)\n",
    "y = torch.arange(1,4).view(3,1)\n",
    "print(y)\n",
    "print(x+y)"
   ]
  },
  {
   "cell_type": "code",
   "execution_count": 44,
   "metadata": {},
   "outputs": [
    {
     "name": "stdout",
     "output_type": "stream",
     "text": [
      "4916030032\n",
      "4916060880\n",
      "tensor([1, 2])\n"
     ]
    }
   ],
   "source": [
    "x = torch.tensor([1,2])\n",
    "y = torch.tensor([3,4])\n",
    "id_before = id(y)\n",
    "print(id_before)\n",
    "y = y+x\n",
    "id_then = id(y)\n",
    "print(id_then)\n",
    "print(x)"
   ]
  },
  {
   "cell_type": "code",
   "execution_count": 45,
   "metadata": {},
   "outputs": [
    {
     "name": "stdout",
     "output_type": "stream",
     "text": [
      "4916043680\n",
      "4916043680\n"
     ]
    }
   ],
   "source": [
    "x = torch.tensor([1,2])\n",
    "y = torch.tensor([3,4])\n",
    "id_before = id(y)\n",
    "y[ : ] = y + x\n",
    "id_then = id(y)\n",
    "print(id_before)\n",
    "print(id_then)"
   ]
  },
  {
   "cell_type": "markdown",
   "metadata": {},
   "source": []
  },
  {
   "cell_type": "code",
   "execution_count": 49,
   "metadata": {},
   "outputs": [
    {
     "name": "stdout",
     "output_type": "stream",
     "text": [
      "True\n"
     ]
    }
   ],
   "source": [
    "x = torch.tensor([1,2])\n",
    "y = torch.tensor([3,4])\n",
    "id_before = id(y)\n",
    "#torch.add(x,y,out = y)   #y += x, y.add_(x)\n",
    "#y.add_(x)\n",
    "y+=x\n",
    "print(id(y)  == id_before)"
   ]
  },
  {
   "cell_type": "code",
   "execution_count": 50,
   "metadata": {},
   "outputs": [
    {
     "ename": "NameError",
     "evalue": "name 'tensor' is not defined",
     "output_type": "error",
     "traceback": [
      "\u001b[0;31m---------------------------------------------------------------------------\u001b[0m",
      "\u001b[0;31mNameError\u001b[0m                                 Traceback (most recent call last)",
      "\u001b[0;32m<ipython-input-50-1b5ad20917ad>\u001b[0m in \u001b[0;36m<module>\u001b[0;34m\u001b[0m\n\u001b[0;32m----> 1\u001b[0;31m \u001b[0mx\u001b[0m \u001b[0;34m=\u001b[0m \u001b[0mtensor\u001b[0m\u001b[0;34m.\u001b[0m\u001b[0mrand\u001b[0m\u001b[0;34m(\u001b[0m\u001b[0;36m5\u001b[0m\u001b[0;34m)\u001b[0m\u001b[0;34m\u001b[0m\u001b[0;34m\u001b[0m\u001b[0m\n\u001b[0m\u001b[1;32m      2\u001b[0m \u001b[0mprint\u001b[0m\u001b[0;34m(\u001b[0m\u001b[0mx\u001b[0m\u001b[0;34m)\u001b[0m\u001b[0;34m\u001b[0m\u001b[0;34m\u001b[0m\u001b[0m\n",
      "\u001b[0;31mNameError\u001b[0m: name 'tensor' is not defined"
     ]
    }
   ],
   "source": [
    "x = tensor.rand(5)\n",
    "print(x)"
   ]
  },
  {
   "cell_type": "code",
   "execution_count": 53,
   "metadata": {},
   "outputs": [
    {
     "name": "stdout",
     "output_type": "stream",
     "text": [
      "tensor([1., 1., 1., 1., 1.])\n",
      "[1. 1. 1. 1. 1.]\n",
      "tensor([1., 1., 1., 1., 1.]) [1. 1. 1. 1. 1.]\n",
      "tensor([2., 2., 2., 2., 2.]) [2. 2. 2. 2. 2.]\n",
      "tensor([3., 3., 3., 3., 3.]) [3. 3. 3. 3. 3.]\n"
     ]
    }
   ],
   "source": [
    "a = torch.ones(5)\n",
    "b = a.numpy()\n",
    "print(a)\n",
    "print(b)\n",
    "print(a,b)\n",
    "a+=1\n",
    "print(a,b)\n",
    "b+=1\n",
    "print(a,b)"
   ]
  },
  {
   "cell_type": "code",
   "execution_count": 54,
   "metadata": {},
   "outputs": [
    {
     "name": "stdout",
     "output_type": "stream",
     "text": [
      "[1. 1. 1. 1. 1.]\n",
      "[1. 1. 1. 1. 1.] tensor([1., 1., 1., 1., 1.], dtype=torch.float64)\n",
      "[2. 2. 2. 2. 2.] tensor([2., 2., 2., 2., 2.], dtype=torch.float64)\n",
      "[3. 3. 3. 3. 3.] tensor([3., 3., 3., 3., 3.], dtype=torch.float64)\n"
     ]
    }
   ],
   "source": [
    "import numpy as np\n",
    "a = np.ones(5)\n",
    "print(a)\n",
    "b = torch.from_numpy(a)\n",
    "print(a,b)\n",
    "\n",
    "a+=1\n",
    "print(a,b)\n",
    "b+=1\n",
    "print(a,b)"
   ]
  },
  {
   "cell_type": "code",
   "execution_count": 55,
   "metadata": {},
   "outputs": [
    {
     "ename": "SyntaxError",
     "evalue": "invalid syntax (<ipython-input-55-21feee0429eb>, line 2)",
     "output_type": "error",
     "traceback": [
      "\u001b[0;36m  File \u001b[0;32m\"<ipython-input-55-21feee0429eb>\"\u001b[0;36m, line \u001b[0;32m2\u001b[0m\n\u001b[0;31m    a + = 1\u001b[0m\n\u001b[0m        ^\u001b[0m\n\u001b[0;31mSyntaxError\u001b[0m\u001b[0;31m:\u001b[0m invalid syntax\n"
     ]
    }
   ],
   "source": [
    "c = torch.tensor(a)\n",
    "a + = 1\n",
    "print(a,c)"
   ]
  },
  {
   "cell_type": "code",
   "execution_count": 56,
   "metadata": {},
   "outputs": [
    {
     "name": "stdout",
     "output_type": "stream",
     "text": [
      "[4. 4. 4. 4. 4.] tensor([3., 3., 3., 3., 3.], dtype=torch.float64)\n"
     ]
    }
   ],
   "source": [
    "c = torch.tensor(a)\n",
    "a+=1\n",
    "print(a,c)"
   ]
  },
  {
   "cell_type": "code",
   "execution_count": 1,
   "metadata": {},
   "outputs": [
    {
     "ename": "NameError",
     "evalue": "name 'x_y' is not defined",
     "output_type": "error",
     "traceback": [
      "\u001b[0;31m---------------------------------------------------------------------------\u001b[0m",
      "\u001b[0;31mNameError\u001b[0m                                 Traceback (most recent call last)",
      "\u001b[0;32m<ipython-input-1-8dd9d8969d4e>\u001b[0m in \u001b[0;36m<module>\u001b[0;34m\u001b[0m\n\u001b[1;32m      1\u001b[0m \u001b[0mx\u001b[0m \u001b[0;34m=\u001b[0m \u001b[0;34m[\u001b[0m\u001b[0;36m1\u001b[0m\u001b[0;34m,\u001b[0m\u001b[0;36m2\u001b[0m\u001b[0;34m,\u001b[0m\u001b[0;36m3\u001b[0m\u001b[0;34m]\u001b[0m\u001b[0;34m\u001b[0m\u001b[0;34m\u001b[0m\u001b[0m\n\u001b[1;32m      2\u001b[0m \u001b[0my\u001b[0m \u001b[0;34m=\u001b[0m \u001b[0;34m[\u001b[0m\u001b[0;36m4\u001b[0m\u001b[0;34m,\u001b[0m\u001b[0;36m5\u001b[0m\u001b[0;34m,\u001b[0m\u001b[0;36m6\u001b[0m\u001b[0;34m]\u001b[0m\u001b[0;34m\u001b[0m\u001b[0;34m\u001b[0m\u001b[0m\n\u001b[0;32m----> 3\u001b[0;31m \u001b[0mprint\u001b[0m\u001b[0;34m(\u001b[0m\u001b[0mx_y\u001b[0m\u001b[0;34m)\u001b[0m\u001b[0;34m\u001b[0m\u001b[0;34m\u001b[0m\u001b[0m\n\u001b[0m",
      "\u001b[0;31mNameError\u001b[0m: name 'x_y' is not defined"
     ]
    }
   ],
   "source": [
    "x = [1,2,3]\n",
    "y = [4,5,6]\n",
    "print(x_y)"
   ]
  },
  {
   "cell_type": "code",
   "execution_count": 2,
   "metadata": {},
   "outputs": [
    {
     "name": "stdout",
     "output_type": "stream",
     "text": [
      "[1, 2, 3]\n"
     ]
    }
   ],
   "source": [
    "print(x)"
   ]
  },
  {
   "cell_type": "code",
   "execution_count": 3,
   "metadata": {},
   "outputs": [
    {
     "ename": "SyntaxError",
     "evalue": "invalid syntax (<ipython-input-3-eb7030b2aaa4>, line 1)",
     "output_type": "error",
     "traceback": [
      "\u001b[0;36m  File \u001b[0;32m\"<ipython-input-3-eb7030b2aaa4>\"\u001b[0;36m, line \u001b[0;32m1\u001b[0m\n\u001b[0;31m    print(map(lambda (x_y : x_y[0] + x_y[1],zip(x,y))))\u001b[0m\n\u001b[0m                     ^\u001b[0m\n\u001b[0;31mSyntaxError\u001b[0m\u001b[0;31m:\u001b[0m invalid syntax\n"
     ]
    }
   ],
   "source": [
    "print(map(lambda x_y : x_y[0] + x_y[1],zip(x,y)))"
   ]
  },
  {
   "cell_type": "code",
   "execution_count": 4,
   "metadata": {},
   "outputs": [
    {
     "ename": "SyntaxError",
     "evalue": "invalid syntax (<ipython-input-4-14f1b9cf03ff>, line 1)",
     "output_type": "error",
     "traceback": [
      "\u001b[0;36m  File \u001b[0;32m\"<ipython-input-4-14f1b9cf03ff>\"\u001b[0;36m, line \u001b[0;32m1\u001b[0m\n\u001b[0;31m    lambda(x:x+1)\u001b[0m\n\u001b[0m          ^\u001b[0m\n\u001b[0;31mSyntaxError\u001b[0m\u001b[0;31m:\u001b[0m invalid syntax\n"
     ]
    }
   ],
   "source": [
    "lambda(x:x+1)"
   ]
  },
  {
   "cell_type": "code",
   "execution_count": 5,
   "metadata": {},
   "outputs": [
    {
     "name": "stdout",
     "output_type": "stream",
     "text": [
      "<map object at 0x107143150>\n"
     ]
    }
   ],
   "source": [
    "print(map(lambda x_y : x_y[0] + x_y[1],zip(x,y)))"
   ]
  },
  {
   "cell_type": "code",
   "execution_count": 6,
   "metadata": {},
   "outputs": [
    {
     "data": {
      "text/plain": [
       "<function __main__.<lambda>(x_y)>"
      ]
     },
     "execution_count": 6,
     "metadata": {},
     "output_type": "execute_result"
    }
   ],
   "source": [
    "lambda x_y : x_y[0] + x_y[1] "
   ]
  },
  {
   "cell_type": "code",
   "execution_count": 8,
   "metadata": {},
   "outputs": [
    {
     "ename": "TypeError",
     "evalue": "<lambda>() takes 1 positional argument but 2 were given",
     "output_type": "error",
     "traceback": [
      "\u001b[0;31m---------------------------------------------------------------------------\u001b[0m",
      "\u001b[0;31mTypeError\u001b[0m                                 Traceback (most recent call last)",
      "\u001b[0;32m<ipython-input-8-6c9604288191>\u001b[0m in \u001b[0;36m<module>\u001b[0;34m\u001b[0m\n\u001b[1;32m      2\u001b[0m \u001b[0ma\u001b[0m \u001b[0;34m=\u001b[0m \u001b[0;34m[\u001b[0m\u001b[0;36m1\u001b[0m\u001b[0;34m,\u001b[0m\u001b[0;36m2\u001b[0m\u001b[0;34m]\u001b[0m\u001b[0;34m\u001b[0m\u001b[0;34m\u001b[0m\u001b[0m\n\u001b[1;32m      3\u001b[0m \u001b[0mb\u001b[0m \u001b[0;34m=\u001b[0m \u001b[0;34m[\u001b[0m\u001b[0;36m3\u001b[0m\u001b[0;34m,\u001b[0m\u001b[0;36m4\u001b[0m\u001b[0;34m]\u001b[0m\u001b[0;34m\u001b[0m\u001b[0;34m\u001b[0m\u001b[0m\n\u001b[0;32m----> 4\u001b[0;31m \u001b[0mf\u001b[0m\u001b[0;34m(\u001b[0m\u001b[0ma\u001b[0m\u001b[0;34m,\u001b[0m\u001b[0mb\u001b[0m\u001b[0;34m)\u001b[0m\u001b[0;34m\u001b[0m\u001b[0;34m\u001b[0m\u001b[0m\n\u001b[0m",
      "\u001b[0;31mTypeError\u001b[0m: <lambda>() takes 1 positional argument but 2 were given"
     ]
    }
   ],
   "source": [
    "f = lambda x_y : x_y[0] + x_y[1] \n",
    "a = [1,2]\n",
    "b = [3,4]\n",
    "f(a,b)"
   ]
  },
  {
   "cell_type": "code",
   "execution_count": 9,
   "metadata": {},
   "outputs": [
    {
     "ename": "NameError",
     "evalue": "name 'a_b' is not defined",
     "output_type": "error",
     "traceback": [
      "\u001b[0;31m---------------------------------------------------------------------------\u001b[0m",
      "\u001b[0;31mNameError\u001b[0m                                 Traceback (most recent call last)",
      "\u001b[0;32m<ipython-input-9-25f73252eef0>\u001b[0m in \u001b[0;36m<module>\u001b[0;34m\u001b[0m\n\u001b[1;32m      2\u001b[0m \u001b[0ma\u001b[0m \u001b[0;34m=\u001b[0m \u001b[0;34m[\u001b[0m\u001b[0;36m1\u001b[0m\u001b[0;34m,\u001b[0m\u001b[0;36m2\u001b[0m\u001b[0;34m]\u001b[0m\u001b[0;34m\u001b[0m\u001b[0;34m\u001b[0m\u001b[0m\n\u001b[1;32m      3\u001b[0m \u001b[0mb\u001b[0m \u001b[0;34m=\u001b[0m \u001b[0;34m[\u001b[0m\u001b[0;36m3\u001b[0m\u001b[0;34m,\u001b[0m\u001b[0;36m4\u001b[0m\u001b[0;34m]\u001b[0m\u001b[0;34m\u001b[0m\u001b[0;34m\u001b[0m\u001b[0m\n\u001b[0;32m----> 4\u001b[0;31m \u001b[0mf\u001b[0m\u001b[0;34m(\u001b[0m\u001b[0ma_b\u001b[0m\u001b[0;34m)\u001b[0m\u001b[0;34m\u001b[0m\u001b[0;34m\u001b[0m\u001b[0m\n\u001b[0m",
      "\u001b[0;31mNameError\u001b[0m: name 'a_b' is not defined"
     ]
    }
   ],
   "source": [
    "f = lambda x_y : x_y[0] + x_y[1] \n",
    "a = [1,2]\n",
    "b = [3,4]\n",
    "f(a_b)"
   ]
  },
  {
   "cell_type": "code",
   "execution_count": 10,
   "metadata": {},
   "outputs": [
    {
     "data": {
      "text/plain": [
       "3"
      ]
     },
     "execution_count": 10,
     "metadata": {},
     "output_type": "execute_result"
    }
   ],
   "source": [
    "f(a)"
   ]
  },
  {
   "cell_type": "code",
   "execution_count": 11,
   "metadata": {},
   "outputs": [
    {
     "data": {
      "text/plain": [
       "3"
      ]
     },
     "execution_count": 11,
     "metadata": {},
     "output_type": "execute_result"
    }
   ],
   "source": [
    "a = [1,2,3,4]\n",
    "f(a)"
   ]
  },
  {
   "cell_type": "code",
   "execution_count": 12,
   "metadata": {},
   "outputs": [
    {
     "name": "stdout",
     "output_type": "stream",
     "text": [
      "3\n"
     ]
    }
   ],
   "source": [
    "a = [1,2,3,4]\n",
    "print(f(a))"
   ]
  },
  {
   "cell_type": "code",
   "execution_count": 10,
   "metadata": {},
   "outputs": [
    {
     "name": "stdout",
     "output_type": "stream",
     "text": [
      "tensor([5.5000, 3.0000])\n",
      "tensor([[1., 1., 1.],\n",
      "        [1., 1., 1.]], dtype=torch.float64)\n",
      "tensor([[-0.0180, -0.3469, -0.4997],\n",
      "        [-0.2040,  0.6974,  0.0054]])\n",
      "tensor([[1., 1., 1.],\n",
      "        [1., 1., 1.]])\n",
      "tensor([[1., 1.],\n",
      "        [1., 1.],\n",
      "        [1., 1.],\n",
      "        [1., 1.],\n",
      "        [1., 1.]])\n"
     ]
    }
   ],
   "source": [
    "import torch\n",
    "x = torch.tensor([5.5,3])\n",
    "print(x)\n",
    "x = x.new_ones(2,3,dtype = torch.double) #new_* methods take in sizes\n",
    "print(x)\n",
    "x= torch.randn_like(x,dtype = torch.float)\n",
    "print(x)\n",
    "y = torch.ones_like(x)\n",
    "print(y)\n",
    "y = y.new_ones(5,2)\n",
    "print(y)\n"
   ]
  },
  {
   "cell_type": "code",
   "execution_count": 1,
   "metadata": {},
   "outputs": [
    {
     "name": "stdout",
     "output_type": "stream",
     "text": [
      "tensor([[-0.2853,  0.4404, -0.2662,  1.3695, -0.9997],\n",
      "        [-1.0363,  1.3654,  0.1773,  2.1698, -0.6005],\n",
      "        [ 0.7773,  0.5091, -0.5006,  1.3301,  0.3799]])\n",
      "tensor([0, 4, 4])\n",
      "tensor(2.4892)\n"
     ]
    }
   ],
   "source": [
    "import torch\n",
    "import torch.nn.functional as F\n",
    "input = torch.randn(3,5)\n",
    "target = torch.randint(5, (3,), dtype=torch.int64)\n",
    "loss = F.cross_entropy(input, target)\n",
    "print(input)\n",
    "print(target)\n",
    "print(loss)"
   ]
  },
  {
   "cell_type": "code",
   "execution_count": null,
   "metadata": {},
   "outputs": [],
   "source": []
  }
 ],
 "metadata": {
  "kernelspec": {
   "display_name": "Python 3",
   "language": "python",
   "name": "python3"
  },
  "language_info": {
   "codemirror_mode": {
    "name": "ipython",
    "version": 3
   },
   "file_extension": ".py",
   "mimetype": "text/x-python",
   "name": "python",
   "nbconvert_exporter": "python",
   "pygments_lexer": "ipython3",
   "version": "3.7.0"
  }
 },
 "nbformat": 4,
 "nbformat_minor": 2
}
