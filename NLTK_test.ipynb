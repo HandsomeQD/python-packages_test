{
 "cells": [
  {
   "cell_type": "code",
   "execution_count": 2,
   "metadata": {},
   "outputs": [
    {
     "name": "stdout",
     "output_type": "stream",
     "text": [
      "['i', 'am', 'a', 'student', 'who', 'loves', 'SJX']\n"
     ]
    }
   ],
   "source": [
    "import nltk\n",
    "sentence = \"i am a student who loves SJX\"\n",
    "tokens = nltk.word_tokenize(sentence)#分词\n",
    "print(tokens)"
   ]
  },
  {
   "cell_type": "code",
   "execution_count": 3,
   "metadata": {},
   "outputs": [
    {
     "name": "stdout",
     "output_type": "stream",
     "text": [
      "[('i', 'NN'), ('am', 'VBP'), ('a', 'DT'), ('student', 'NN'), ('who', 'WP'), ('loves', 'VBZ'), ('SJX', 'NNP')]\n"
     ]
    }
   ],
   "source": [
    "tagged = nltk.pos_tag(tokens)\n",
    "print(tagged)#词性标签\n",
    "'''\n",
    "CC     coordinatingconjunction 并列连词\n",
    "\n",
    "CD     cardinaldigit  纯数  基数\n",
    "\n",
    "DT     determiner  限定词（置于名词前起限定作用，如 the、some、my 等）\n",
    "\n",
    "EX     existentialthere (like:\"there is\"... think of it like \"thereexists\")   存在句；存现句\n",
    "\n",
    "FW     foreignword  外来语；外来词；外文原词\n",
    "\n",
    "IN     preposition/subordinating conjunction介词/从属连词；主从连词；从属连接词\n",
    "\n",
    "JJ     adjective    'big'  形容词\n",
    "\n",
    "JJR    adjective, comparative 'bigger' （形容词或副词的）比较级形式\n",
    "\n",
    "JJS    adjective, superlative 'biggest'  （形容词或副词的）最高级\n",
    "\n",
    "LS     listmarker  1)\n",
    "\n",
    "MD     modal (could, will) 形态的，形式的 , 语气的；情态的\n",
    "\n",
    "NN     noun, singular 'desk' 名词单数形式\n",
    "\n",
    "NNS    nounplural  'desks'  名词复数形式\n",
    "\n",
    "NNP    propernoun, singular     'Harrison' 专有名词\n",
    "\n",
    "NNPS  proper noun, plural 'Americans'  专有名词复数形式\n",
    "\n",
    "PDT    predeterminer      'all the kids'  前位限定词\n",
    "\n",
    "POS    possessiveending  parent's   属有词  结束语\n",
    "\n",
    "PRP    personalpronoun   I, he, she  人称代词\n",
    "\n",
    "PRP$  possessive pronoun my, his, hers  物主代词\n",
    "\n",
    "RB     adverb very, silently, 副词    非常  静静地\n",
    "\n",
    "RBR    adverb,comparative better   （形容词或副词的）比较级形式\n",
    "\n",
    "RBS    adverb,superlative best    （形容词或副词的）最高级\n",
    "\n",
    "RP     particle     give up 小品词(与动词构成短语动词的副词或介词)\n",
    "\n",
    "TO     to    go 'to' the store.\n",
    "\n",
    "UH     interjection errrrrrrrm  感叹词；感叹语\n",
    "\n",
    "VB     verb, baseform    take   动词\n",
    "\n",
    "VBD    verb, pasttense   took   动词   过去时；过去式\n",
    "\n",
    "VBG    verb,gerund/present participle taking 动词  动名词/现在分词\n",
    "\n",
    "VBN    verb, pastparticiple     taken 动词  过去分词\n",
    "\n",
    "VBP    verb,sing. present, non-3d     take 动词  现在\n",
    "\n",
    "VBZ    verb, 3rdperson sing. present  takes   动词  第三人称\n",
    "\n",
    "WDT    wh-determiner      which 限定词（置于名词前起限定作用，如 the、some、my 等）\n",
    "\n",
    "WP     wh-pronoun   who, what 代词（代替名词或名词词组的单词）\n",
    "\n",
    "WP$    possessivewh-pronoun     whose  所有格；属有词\n",
    "\n",
    "WRB    wh-abverb    where, when 副词\n",
    "'''"
   ]
  },
  {
   "cell_type": "code",
   "execution_count": 4,
   "metadata": {},
   "outputs": [
    {
     "name": "stdout",
     "output_type": "stream",
     "text": [
      "(S\n",
      "  i/NN\n",
      "  am/VBP\n",
      "  a/DT\n",
      "  student/NN\n",
      "  who/WP\n",
      "  loves/VBZ\n",
      "  (ORGANIZATION SJX/NNP))\n"
     ]
    }
   ],
   "source": [
    "entities = nltk.chunk.ne_chunk(tagged)\n",
    "print(entities)"
   ]
  },
  {
   "cell_type": "code",
   "execution_count": 5,
   "metadata": {},
   "outputs": [],
   "source": [
    "from nltk.corpus import treebank\n",
    "t = treebank.parsed_sents('wsj_0001.mrg')[0]\n",
    "t.draw()"
   ]
  },
  {
   "cell_type": "code",
   "execution_count": null,
   "metadata": {},
   "outputs": [],
   "source": []
  }
 ],
 "metadata": {
  "kernelspec": {
   "display_name": "Python 3",
   "language": "python",
   "name": "python3"
  },
  "language_info": {
   "codemirror_mode": {
    "name": "ipython",
    "version": 3
   },
   "file_extension": ".py",
   "mimetype": "text/x-python",
   "name": "python",
   "nbconvert_exporter": "python",
   "pygments_lexer": "ipython3",
   "version": "3.7.0"
  }
 },
 "nbformat": 4,
 "nbformat_minor": 2
}
