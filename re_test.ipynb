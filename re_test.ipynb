{
 "cells": [
  {
   "cell_type": "code",
   "execution_count": 10,
   "metadata": {},
   "outputs": [
    {
     "name": "stdout",
     "output_type": "stream",
     "text": [
      "<re.Match object; span=(0, 9), match='wwwwwwwww'>\n",
      "None\n"
     ]
    }
   ],
   "source": [
    "\"\"\"\n",
    "re.match 尝试从字符串的起始位置匹配一个模式，如果不是起始位置匹配成功的话，match()就返回none。\n",
    "re.match(pattern, string, flags=0) \n",
    "pattern 匹配的正则表达式\n",
    "flag 标志位，用于控制正则表达式的匹配方式，如：是否区分大小写，多行匹配等等\n",
    "\"\"\"\n",
    "import re\n",
    "print(re.match('wwwwwwwww', 'wwwwwwwwwwwwwwwww.4399.com'))# 在起始位置匹配 <re.Match object; span=(0, 9), match='wwwwwwwww'>\n",
    "print(re.match('com', 'www.4399.com'))# 不在起始位置匹配"
   ]
  },
  {
   "cell_type": "code",
   "execution_count": 12,
   "metadata": {},
   "outputs": [
    {
     "name": "stdout",
     "output_type": "stream",
     "text": [
      "<re.Match object; span=(0, 3), match='www'>\n",
      "<re.Match object; span=(9, 12), match='com'>\n"
     ]
    }
   ],
   "source": [
    "\"\"\"\n",
    "re.search方法\n",
    "re.search 扫描整个字符串并返回第一个成功的匹配。\n",
    "re.match只匹配字符串的开始，如果字符串开始不符合正则表达式，则匹配失败，函数返回None；\n",
    "而re.search匹配整个字符串，直到找到一个匹配。\n",
    "\"\"\"\n",
    "import re\n",
    "print(re.search('www', 'www.4399.com'))  # 在起始位置匹配 <re.Match object; span=(0, 3), match='www'> \n",
    "print(re.search('com', 'www.4399.com'))         # 不在起始位置匹配 <re.Match object; span=(9, 12), match='com'>"
   ]
  },
  {
   "cell_type": "code",
   "execution_count": 15,
   "metadata": {},
   "outputs": [
    {
     "name": "stdout",
     "output_type": "stream",
     "text": [
      "电话号码是:  2004-959-559 \n",
      "电话号码是:  2004959559\n",
      "A46G8HFD1134\n"
     ]
    }
   ],
   "source": [
    "\"\"\"\n",
    "检索和替换\n",
    "Python 的 re 模块提供了re.sub用于替换字符串中的匹配项。\n",
    "re.sub(pattern, repl, string, count=0, flags=0)\n",
    "repl : 替换的字符串，也可为一个函数。\n",
    "count : 模式匹配后替换的最大次数，默认 0 表示替换所有的匹配。\n",
    "\"\"\"\n",
    "import re \n",
    "number = \"2004-959-559 # 这是一个国外电话号码\"\n",
    "# 删除字符串中的注释 \n",
    "num = re.sub(r'#.*$', \"\",number)\n",
    "print(\"电话号码是: \",num) \n",
    "# 删除非数字(-)的字符串 \n",
    "num = re.sub(r'\\D', \"\",number)\n",
    "print(\"电话号码是: \",num)\n",
    "\n",
    "# 将匹配的数字乘以 2\n",
    "def double(matched):\n",
    "    value = int(matched.group('value'))\n",
    "    return str(value * 2) \n",
    "s = 'A23G4HFD567'\n",
    "print(re.sub('(?P<value>\\d+)', double, s))"
   ]
  },
  {
   "cell_type": "code",
   "execution_count": 22,
   "metadata": {},
   "outputs": [
    {
     "name": "stdout",
     "output_type": "stream",
     "text": [
      "None\n",
      "<re.Match object; span=(3, 5), match='12'>\n",
      "<re.Match object; span=(3, 5), match='12'>\n",
      "12\n",
      "3\n",
      "5\n",
      "(3, 5)\n",
      "Hello World\n",
      "Hello World\n",
      "Hello\n",
      "World\n"
     ]
    }
   ],
   "source": [
    "\"\"\"\n",
    "re.compile 函数\n",
    "compile 函数用于编译正则表达式，生成一个正则表达式（ Pattern ）对象，供 match() 和 search() 这两个函数使用。\n",
    "re.compile(pattern[, flags])\n",
    "flags : 可选，表示匹配模式，比如忽略大小写，多行模式等，具体参数为：\n",
    "    re.I 忽略大小写\n",
    "    re.L 表示特殊字符集 \\w, \\W, \\b, \\B, \\s, \\S 依赖于当前环境\n",
    "    re.M 多行模式\n",
    "    re.S 即为 . 并且包括换行符在内的任意字符（. 不包括换行符）\n",
    "    re.U 表示特殊字符集 \\w, \\W, \\b, \\B, \\d, \\D, \\s, \\S 依赖于 Unicode 字符属性数据库\n",
    "    re.X 为了增加可读性，忽略空格和 # 后面的注释\n",
    "多个标志可以通过按位 OR(|) 它们来指定。如 re.I | re.M 被设置成 I 和 M 标志：\n",
    "\"\"\"\n",
    "import re\n",
    "pattern = re.compile(r'\\d+')# 用于匹配至少一个数字\n",
    "m = pattern.match('one12twothree34four')# 查找头部，没有匹配\n",
    "print(m)\n",
    "m = pattern.match('one12twothree34four', 3,10) # 从'1'的位置开始匹配，正好匹配 <re.Match object; span=(3, 5), match='12'> span包头去尾\n",
    "n = pattern.search(\"one12twothree34four\")#查找是否存在匹配 <re.Match object; span=(3, 5), match='12'>\n",
    "print(m)\n",
    "print(n)\n",
    "\"\"\"\n",
    "group([group1, …]) 方法用于获得一个或多个分组匹配的字符串，当要获得整个匹配的子串时，可直接使用 group() 或 group(0)；\n",
    "start([group]) 方法用于获取分组匹配的子串在整个字符串中的起始位置（子串第一个字符的索引），参数默认值为 0；\n",
    "end([group]) 方法用于获取分组匹配的子串在整个字符串中的结束位置（子串最后一个字符的索引+1），参数默认值为 0；\n",
    "span([group]) 方法返回 (start(group), end(group))。\n",
    "\"\"\"\n",
    "print(n.group())#12\n",
    "print(n.start())#3\n",
    "print(n.end())#5\n",
    "print(n.span())#(3,5)\n",
    "\n",
    "#check group()\n",
    "pattern = re.compile(r'([a-z]+) ([a-z]+)', re.I)   # re.I 表示忽略大小写\n",
    "m = pattern.match('Hello World Wide Web')\n",
    "print(m.group())\n",
    "print(m.group(0))\n",
    "print(m.group(1))\n",
    "print(m.group(2))"
   ]
  },
  {
   "cell_type": "code",
   "execution_count": 23,
   "metadata": {},
   "outputs": [
    {
     "name": "stdout",
     "output_type": "stream",
     "text": [
      "['12', '34']\n"
     ]
    }
   ],
   "source": [
    "\"\"\"\n",
    "findall\n",
    "在字符串中找到正则表达式所匹配的所有子串，并返回一个列表，如果没有找到匹配的，则返回空列表。\n",
    "Attention::::::::match 和 search 是匹配一次 findall 匹配所有。\n",
    "findall(string[, pos[, endpos]])\n",
    "pos : 可选参数，指定字符串的起始位置，默认为 0。\n",
    "endpos : 可选参数，指定字符串的结束位置，默认为字符串的长度。\n",
    "\"\"\"\n",
    "import re\n",
    "pattern = re.compile(r'\\d+')# 用于匹配至少一个数字\n",
    "m = pattern.findall('one12twothree34four')# 查找头部，没有匹配\n",
    "print(m)#['12', '34']"
   ]
  },
  {
   "cell_type": "code",
   "execution_count": 28,
   "metadata": {},
   "outputs": [
    {
     "name": "stdout",
     "output_type": "stream",
     "text": [
      "<callable_iterator object at 0x106a85470>\n",
      "<re.Match object; span=(0, 2), match='12'>\n",
      "12\n",
      "(0, 2)\n",
      "<re.Match object; span=(3, 5), match='32'>\n",
      "32\n",
      "(3, 5)\n",
      "<re.Match object; span=(7, 9), match='43'>\n",
      "43\n",
      "(7, 9)\n",
      "<re.Match object; span=(11, 12), match='3'>\n",
      "3\n",
      "(11, 12)\n"
     ]
    }
   ],
   "source": [
    "\"\"\"\n",
    "re.finditer\n",
    "和 findall 类似，在字符串中找到正则表达式所匹配的所有子串，并把它们作为一个迭代器返回。\n",
    "re.finditer(pattern, string, flags=0)\n",
    "\"\"\"\n",
    "import re\n",
    "it = re.finditer(r\"\\d+\",\"12a32bc43jf3\") \n",
    "print(it)#<callable_iterator object at 0x106a8ef28>\n",
    "for match in it: \n",
    "    print(match)#<re.Match object; span=(0, 2), match='12'>\n",
    "    print (match.group())#12 求解其中的match参数值 没有.match()函数\n",
    "    print(match.span())#(0, 2)"
   ]
  },
  {
   "cell_type": "code",
   "execution_count": 43,
   "metadata": {},
   "outputs": [
    {
     "name": "stdout",
     "output_type": "stream",
     "text": [
      "[',', ',', ',', '.']\n",
      "['r', 'u', 'n', 'o', 'o', 'b', '1', '2', '3', '4', '5', 'r', 'u', 'n', 'o', 'o', 'b', 'r', 'u', 'n', 'o', 'o', 'b']\n",
      "['runoob', '12345', 'runoob', 'runoob', '']\n",
      "['', 'unoob,12345,runoob,runoob.']\n",
      "['', '1', '2', '3', '4', '5', '6', '7', '']\n"
     ]
    }
   ],
   "source": [
    "\"\"\"\n",
    "re.split\n",
    "split 方法按照能够匹配的子串将字符串分割后返回列表，它的使用形式如下：\n",
    "re.split(pattern, string[, maxsplit=0, flags=0])\n",
    "maxsplit::::::::::::::::分隔次数，maxsplit=1 分隔一次，默认为 0，不限制次数。\n",
    "\"\"\"\n",
    "import re\n",
    "x = re.split('\\W', 'runoob,12345,runoob,runoob.')\n",
    "x1 = re.findall('\\W', 'runoob,12345,runoob,runoob.')\n",
    "x2 = re.findall(\"\\w\",'runoob,12345,runoob,runoob.')\n",
    "print(x1)\n",
    "print(x2)\n",
    "print(x)\n",
    "y = re.split('\\w', 'runoob,12345,runoob,runoob.',maxsplit=1)\n",
    "print(y)\n",
    "z = re.split('a*', '1234567')\n",
    "print(z)"
   ]
  },
  {
   "cell_type": "code",
   "execution_count": 46,
   "metadata": {},
   "outputs": [
    {
     "name": "stdout",
     "output_type": "stream",
     "text": [
      "['I have a dog', 'I have a cat']\n",
      "['dog', 'cat']\n",
      "['I have a dog', 'cat']\n"
     ]
    }
   ],
   "source": [
    "\"\"\"\n",
    "r     在Python的string前面加上‘r’， 告诉编译器这个string是个raw string 无需理会转义字符含义\n",
    "^        匹配字符串的开头\n",
    "$        匹配字符串的末尾。\n",
    ".         匹配任意字符，除了换行符，当re.DOTALL标记被指定时，则可以匹配包括换行符的任意字符。\n",
    "[...]     用来表示一组字符,单独列出：[amk] 匹配 'a'，'m'或'k'\n",
    "[^...]    不在[]中的字符：[^abc] 匹配除了a,b,c之外的字符。\n",
    "re*      匹配0个或多个的表达式。（前一个字符）\n",
    "re+      匹配1个或多个的表达式。（前一个字符）\n",
    "re?      匹配0个或1个由前面的正则表达式定义的片段，非贪婪方式（前一个字符）\n",
    "\n",
    "\n",
    "re{ n}    精确匹配 n 个前面表达式。例如， o{2} 不能匹配 \"Bob\" 中的 \"o\"，但是能匹配 \"food\" 中的两个 o。（前一个字符）\n",
    "re{ n,}   匹配 n 个前面表达式。例如， o{2,} 不能匹配\"Bob\"中的\"o\"，但能匹配 \"foooood\"中的所有 o。\"o{1,}\" 等价于 \"o+\"。\"o{0,}\" 则等价于 \"o*\"。（前一个字符）\n",
    "re{ n, m}  匹配 n 到 m 次由前面的正则表达式定义的片段，贪婪方式（前一个字符）\n",
    "a| b        匹配a或b\n",
    "(re)        对正则表达式分组并记住匹配的文本\n",
    "(?imx)    正则表达式包含三种可选标志：i, m, 或 x 。只影响括号中的区域。\n",
    "(?-imx)   正则表达式关闭 i, m, 或 x 可选标志。只影响括号中的区域。\n",
    "(?: re)   类似 (...), 但是不表示一个组\n",
    "(?imx: re)  在括号中使用i, m, 或 x 可选标志\n",
    "(?-imx: re)  在括号中不使用i, m, 或 x 可选标志\n",
    "(?#...)  注释.\n",
    "(?= re)    前向肯定界定符。如果所含正则表达式，以 ... 表示，在当前位置成功匹配时成功，否则失败。但一旦所含表达式已经尝试，匹配引擎根本没有提高；模式的剩余部分还要尝试界定符的右边。\n",
    "(?! re)  前向否定界定符。与肯定界定符相反；当所含表达式不能在字符串当前位置匹配时成功\n",
    "(?> re) 匹配的独立模式，省去回溯。\n",
    "\\w     匹配字母数字及下划线\n",
    "\\W     匹配非字母数字及下划线\n",
    "\\s      匹配任意空白字符，等价于 [\\t\\n\\r\\f].\n",
    "\\S      匹配任意非空字符\n",
    "\\d      匹配任意数字，等价于 [0-9].\n",
    "\\D      匹配任意非数字\n",
    "\\A      匹配字符串开始\n",
    "\\Z      匹配字符串结束，如果是存在换行，只匹配到换行前的结束字符串。\n",
    "\\z       匹配字符串结束\n",
    "\\G      匹配最后匹配完成的位置。\n",
    "\\b      匹配一个单词边界，也就是指单词和空格间的位置。例如， 'er\\b' 可以匹配\"never\" 中的 'er'，但不能匹配 \"verb\" 中的 'er'。\n",
    "\\B      匹配非单词边界。'er\\B' 能匹配 \"verb\" 中的 'er'，但不能匹配 \"never\" 中的 'er'。\n",
    "\\n, \\t, 等.   匹配一个换行符。匹配一个制表符。等\n",
    "\\1...\\9   匹配第n个分组的内容。\n",
    "\\10    匹配第n个分组的内容，如果它经匹配。否则指的是八进制字符码的表达式。\n",
    "\\\\      转义字符，跟在其后的字符将失去作为特殊元字符的含义，例如\\\\.只能匹配.，不能再匹配任意字符\n",
    "\n",
    "模式字符串使用特殊的语法来表示一个正则表达式：\n",
    "字母和数字表示他们自身。一个正则表达式模式中的字母和数字匹配同样的字符串。\n",
    "多数字母和数字前加一个反斜杠时会拥有不同的含义。\n",
    "标点符号只有被转义时才匹配自身，否则它们表示特殊的含义。\n",
    "反斜杠本身需要使用反斜杠转义。\n",
    "由于正则表达式通常都包含反斜杠，所以你最好使用原始字符串来表示它们。模式元素(如 r'\\t'，等价于 '\\\\t')匹配相应的特殊字符。\n",
    "下表列出了正则表达式模式语法中的特殊元素。如果你使用模式的同时提供了可选的标志参数，某些模式元素的含义会改变。\n",
    "\"\"\"\n",
    "#无捕获组\n",
    "x = re.findall(r\"I have a (?:dog|cat)\",\"I have a dog,I have a cat\")\n",
    "print(x)\n",
    "y = re.findall(r\"I have a (dog|cat)\",\"I have a dog,I have a cat\")\n",
    "print(y)\n",
    "z = re.findall(r\"I have a dog|cat\",\"I have a dog,I have a cat\")\n",
    "print(z)"
   ]
  },
  {
   "cell_type": "code",
   "execution_count": 63,
   "metadata": {},
   "outputs": [
    {
     "name": "stdout",
     "output_type": "stream",
     "text": [
      "['你是谁啊', '我是单佳鑫', '你是谁啊']\n",
      "['', '', '', '', '?????', '', '', '', '', '12345.];ss', '', '', '', '[;[s;[]\\x12e]]2[\\\\]\\\\;']\n"
     ]
    }
   ],
   "source": [
    "\"\"\"\n",
    "转载的一些特殊需求\n",
    "1. Email地址：^\\w+([-+.]\\w+)*@\\w+([-.]\\w+)*\\.\\w+([-.]\\w+)*$\n",
    "2. 域名：[a-zA-Z0-9][-a-zA-Z0-9]{0,62}(/.[a-zA-Z0-9][-a-zA-Z0-9]{0,62})+/.?\n",
    "3. InternetURL：[a-zA-z]+://[^\\s]* 或 ^http://([\\w-]+\\.)+[\\w-]+(/[\\w-./?%&=]*)?$\n",
    "4. 手机号码：^(13[0-9]|14[5|7]|15[0|1|2|3|5|6|7|8|9]|18[0|1|2|3|5|6|7|8|9])\\d{8}$\n",
    "5. 电话号码(\"XXX-XXXXXXX\"、\"XXXX-XXXXXXXX\"、\"XXX-XXXXXXX\"、\"XXX-XXXXXXXX\"、\"XXXXXXX\"和\"XXXXXXXX)：^(\\(\\d{3,4}-)|\\d{3.4}-)?\\d{7,8}$\n",
    "6. 国内电话号码(0511-4405222、021-87888822)：\\d{3}-\\d{8}|\\d{4}-\\d{7}\n",
    "7. 身份证号(15位、18位数字)：^\\d{15}|\\d{18}$\n",
    "8. 短身份证号码(数字、字母x结尾)：^([0-9]){7,18}(x|X)?$ 或 ^\\d{8,18}|[0-9x]{8,18}|[0-9X]{8,18}?$\n",
    "9. 帐号是否合法(字母开头，允许5-16字节，允许字母数字下划线)：^[a-zA-Z][a-zA-Z0-9_]{4,15}$\n",
    "10. 密码(以字母开头，长度在6~18之间，只能包含字母、数字和下划线)：^[a-zA-Z]\\w{5,17}$\n",
    "11. 强密码(必须包含大小写字母和数字的组合，不能使用特殊字符，长度在8-10之间)：^(?=.*\\d)(?=.*[a-z])(?=.*[A-Z]).{8,10}$\n",
    "12. 日期格式：^\\d{4}-\\d{1,2}-\\d{1,2}\n",
    "13. 一年的12个月(01～09和1～12)：^(0?[1-9]|1[0-2])$\n",
    "14. 一个月的31天(01～09和1～31)：^((0?[1-9])|((1|2)[0-9])|30|31)$\n",
    "15. 钱的输入格式：\n",
    "16. 1.有四种钱的表示形式我们可以接受:\"10000.00\" 和 \"10,000.00\", 和没有 \"分\" 的 \"10000\" 和 \"10,000\"：^[1-9][0-9]*$\n",
    "17. 2.这表示任意一个不以0开头的数字,但是,这也意味着一个字符\"0\"不通过,所以我们采用下面的形式：^(0|[1-9][0-9]*)$\n",
    "18. 3.一个0或者一个不以0开头的数字.我们还可以允许开头有一个负号：^(0|-?[1-9][0-9]*)$\n",
    "19. 4.这表示一个0或者一个可能为负的开头不为0的数字.让用户以0开头好了.把负号的也去掉,因为钱总不能是负的吧.下面我们要加的是说明可能的小数部分：^[0-9]+(.[0-9]+)?$\n",
    "20. 5.必须说明的是,小数点后面至少应该有1位数,所以\"10.\"是不通过的,但是 \"10\" 和 \"10.2\" 是通过的：^[0-9]+(.[0-9]{2})?$\n",
    "21. 6.这样我们规定小数点后面必须有两位,如果你认为太苛刻了,可以这样：^[0-9]+(.[0-9]{1,2})?$\n",
    "22. 7.这样就允许用户只写一位小数.下面我们该考虑数字中的逗号了,我们可以这样：^[0-9]{1,3}(,[0-9]{3})*(.[0-9]{1,2})?$\n",
    "23 8.1到3个数字,后面跟着任意个 逗号+3个数字,逗号成为可选,而不是必须：^([0-9]+|[0-9]{1,3}(,[0-9]{3})*)(.[0-9]{1,2})?$\n",
    "24. 备注：这就是最终结果了,别忘了\"+\"可以用\"*\"替代如果你觉得空字符串也可以接受的话(奇怪,为什么?)最后,别忘了在用函数时去掉去掉那个反斜杠,一般的错误都在这里\n",
    "25. xml文件：^([a-zA-Z]+-?)+[a-zA-Z0-9]+\\\\.[x|X][m|M][l|L]$\n",
    "26. 中文字符的正则表达式：[\\u4e00-\\u9fa5]\n",
    "27. 双字节字符：[^\\x00-\\xff] (包括汉字在内，可以用来计算字符串的长度(一个双字节字符长度计2，ASCII字符计1))\n",
    "28. 空白行的正则表达式：\\n\\s*\\r (可以用来删除空白行)\n",
    "29. HTML标记的正则表达式：<(\\S*?)[^>]*>.*?</\\1>|<.*? /> (网上流传的版本太糟糕，上面这个也仅仅能部分，对于复杂的嵌套标记依旧无能为力)\n",
    "30. 首尾空白字符的正则表达式：^\\s*|\\s*$或(^\\s*)|(\\s*$) (可以用来删除行首行尾的空白字符(包括空格、制表符、换页符等等)，非常有用的表达式)\n",
    "31. 腾讯QQ号：[1-9][0-9]{4,} (腾讯QQ号从10000开始)\n",
    "32. 中国邮政编码：[1-9]\\d{5}(?!\\d) (中国邮政编码为6位数字)\n",
    "33. IP地址：\\d+\\.\\d+\\.\\d+\\.\\d+ (提取IP地址时有用)\n",
    "34. IP地址：((?:(?:25[0-5]|2[0-4]\\\\d|[01]?\\\\d?\\\\d)\\\\.){3}(?:25[0-5]|2[0-4]\\\\d|[01]?\\\\d?\\\\d))\n",
    "\"\"\"\n",
    "#测试单个中文字符匹配/中文字符串匹配\n",
    "sentence = \"你是谁啊?????我是单佳鑫12345.];ss你是谁啊[;[s;[]\\22e]]2[\\]\\;\"\n",
    "UnmatchObj = re.split(\"[\\u4e00-\\u9fa5]\",sentence)\n",
    "matchObj = re.findall(\"[\\u4e00-\\u9fa5]+\",sentence)\n",
    "print(matchObj)\n",
    "print(UnmatchObj)"
   ]
  },
  {
   "cell_type": "code",
   "execution_count": null,
   "metadata": {},
   "outputs": [],
   "source": []
  },
  {
   "cell_type": "code",
   "execution_count": null,
   "metadata": {},
   "outputs": [],
   "source": []
  },
  {
   "cell_type": "code",
   "execution_count": null,
   "metadata": {},
   "outputs": [],
   "source": []
  }
 ],
 "metadata": {
  "kernelspec": {
   "display_name": "Python 3",
   "language": "python",
   "name": "python3"
  },
  "language_info": {
   "codemirror_mode": {
    "name": "ipython",
    "version": 3
   },
   "file_extension": ".py",
   "mimetype": "text/x-python",
   "name": "python",
   "nbconvert_exporter": "python",
   "pygments_lexer": "ipython3",
   "version": "3.7.2"
  }
 },
 "nbformat": 4,
 "nbformat_minor": 2
}
